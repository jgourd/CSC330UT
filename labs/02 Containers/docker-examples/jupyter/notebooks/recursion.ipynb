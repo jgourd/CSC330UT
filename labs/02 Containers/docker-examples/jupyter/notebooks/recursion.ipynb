{
  "nbformat": 4,
  "nbformat_minor": 0,
  "metadata": {
    "colab": {
      "name": "05 recursion.ipynb",
      "provenance": [],
      "collapsed_sections": [
        "rmKWvoygSGzV",
        "LFjdYMLiS3F1",
        "PLB2WE4MX0a0",
        "O03mEloVdH_o",
        "vfoBddr9s48e",
        "zvE3SVz1s-pH",
        "FndtIdmOzeEe"
      ]
    },
    "kernelspec": {
      "name": "python3",
      "display_name": "Python 3"
    },
    "language_info": {
      "name": "python"
    },
    "gpuClass": "standard"
  },
  "cells": [
    {
      "cell_type": "markdown",
      "source": [
        "# Recursion\n",
        "\n",
        "This lesson is detailed in [Problem Solving with Algorithms and Data Structures using Python](https://runestone.academy/ns/books/published/pythonds3/index.html) sections **5.2** through **5.11**."
      ],
      "metadata": {
        "id": "Xt5Be3X8ztkb"
      }
    },
    {
      "cell_type": "markdown",
      "source": [
        "## Introduction"
      ],
      "metadata": {
        "id": "rmKWvoygSGzV"
      }
    },
    {
      "cell_type": "markdown",
      "source": [
        "**Recursion** is a method of solving problems that involves breaking a problem down into smaller and smaller subproblems until you get to a small enough problem that it can be solved trivially. Usually recursion involves a **function calling itself**.\n",
        "\n",
        "There are three requirements for recursion:\n",
        "\n",
        "* A recursive algorithm must have a **base case**.\n",
        "* A recursive algorithm must change its state and **move toward** the base case (i.e., it must be break down into a smaller subproblem).\n",
        "* A recursive algorithm must **call itself**, recursively."
      ],
      "metadata": {
        "id": "PB4SE5SpSJwo"
      }
    },
    {
      "cell_type": "markdown",
      "source": [
        "### List sum"
      ],
      "metadata": {
        "id": "LFjdYMLiS3F1"
      }
    },
    {
      "cell_type": "markdown",
      "source": [
        "To illustrate the three requirements, let's look at how we might calculate the sum of a list of numbers. Here's an **iterative** solution to this problem:"
      ],
      "metadata": {
        "id": "ucx1N06AS6QU"
      }
    },
    {
      "cell_type": "code",
      "source": [
        "def calc_sum(lst):\n",
        "  total = 0\n",
        "\n",
        "  for item in lst:\n",
        "    total += item\n",
        "\n",
        "  return total\n",
        "\n",
        "nums = [ 1, 3, 5, 7, 9 ]\n",
        "print(calc_sum(nums))\n",
        "nums = [ 1, 2, 3, 4, 5, 6, 7, 8, 9, 10 ]\n",
        "print(calc_sum(nums))"
      ],
      "metadata": {
        "id": "sOgXgukKTJpP",
        "colab": {
          "base_uri": "https://localhost:8080/"
        },
        "outputId": "55d5a7b5-bfd8-4595-99f2-5e4965e79ab2"
      },
      "execution_count": 1,
      "outputs": [
        {
          "output_type": "stream",
          "name": "stdout",
          "text": [
            "25\n",
            "55\n"
          ]
        }
      ]
    },
    {
      "cell_type": "markdown",
      "source": [
        "Notice how a *for* loop is used to calculate the sum in the `calc_sum()` function. This is why this algorithm is iterative. It uses iteration as its form of repetition. Now, lets see how we might think of a different way to calculate the sum of a list of numbers. Here's one way that we could write the sum of 1, 3, 5, 7, and 9:\n",
        "\n",
        "$$((((1 + 3) + 5) + 7) + 9)$$\n",
        "\n",
        "This would first sum $1+3$ (which is 4) and then add that to 5, and so on. Of course, we could parenthesize the expression a different way:\n",
        "\n",
        "$$(1 + (3 + (5 + (7 + 9))))$$\n",
        "\n",
        "Obviously, this would first sum $7+9$ (which is 16) and then add that to 5, and so on. The end result of both expressions is the same: 25.\n",
        "\n",
        "$$\n",
        "\\begin{array}{rcl}\n",
        "\\text{sum} & = & (1 + (3 + (5 + (7 + 9))))\\\\\n",
        "\\text{sum} & = & (1 + (3 + (5 + 16)))\\\\\n",
        "\\text{sum} & = & (1 + (3 + 21))\\\\\n",
        "\\text{sum} & = & (1 + 24)\\\\\n",
        "\\text{sum} & = & 25\n",
        "\\end{array}\n",
        "$$\n",
        "\n",
        "We can think of a way to calculate the sum recursively by noticing that the sum is really just the first number of the list added to the sum of the remainder of the list. In other words, for the list `l = [ 1, 3, 5, 7, 9 ]`, the sum is `l[0]` + `calc_sum(l[1:])`. Recall that we can use **array slices** to represent a portion of a Python list. The array slice `l[1:]`, for example, refers to the items in the list beginning at index 1 (the second index) through the end of the list. Here's a recursive solution that uses this idea:"
      ],
      "metadata": {
        "id": "eAgjxOOtTDR_"
      }
    },
    {
      "cell_type": "code",
      "source": [
        "def calc_sum(lst):\n",
        "  if (len(lst) == 1):\n",
        "    return lst[0]\n",
        "  else:\n",
        "    return lst[0] + calc_sum(lst[1:])\n",
        "\n",
        "nums = [ 1, 3, 5, 7, 9 ]\n",
        "print(calc_sum(nums))\n",
        "nums = [ 1, 2, 3, 4, 5, 6, 7, 8, 9, 10 ]\n",
        "print(calc_sum(nums))"
      ],
      "metadata": {
        "id": "fKCJIaZmV317",
        "colab": {
          "base_uri": "https://localhost:8080/"
        },
        "outputId": "d5915432-e652-421e-b39d-e7ca44ba28f8"
      },
      "execution_count": 2,
      "outputs": [
        {
          "output_type": "stream",
          "name": "stdout",
          "text": [
            "25\n",
            "55\n"
          ]
        }
      ]
    },
    {
      "cell_type": "markdown",
      "source": [
        "Let's look at each of the three requirements for recursion and see how they were used in the recursive `calc_sum()` function.\n",
        "\n",
        "First, a **base case** is the condition that stops the recursion. A base case is typically a problem that is small enough to solve directly. In the `calc_sum()` function, the base case is a list of length 1. In this case, the sum of a single number is just that number.\n",
        "\n",
        "The second requirement is that the recursive algorithm must change its state so that it moves the algorithm **toward** the base case. A change of state means that some data that the algorithm is using is modified. Usually the data that represents our problem gets smaller in some way. In the `calc_sum()` function, our primary data structure is a list; therefore, we must focus our efforts on the list. Since the base case is a list of length 1, a natural progression toward the base case is to shorten the list. This is exactly what happens on line 5 of the code above (i.e., the `calc_sum()` function is called with a shorter list).\n",
        "\n",
        "The final requirement is that the algorithm must **call itself**. This is the very definition of recursion. Obviously, the recursive algorithm above meets this requirement (in line 5)."
      ],
      "metadata": {
        "id": "CViTMH2RV5_j"
      }
    },
    {
      "cell_type": "markdown",
      "source": [
        "### Other examples"
      ],
      "metadata": {
        "id": "PLB2WE4MX0a0"
      }
    },
    {
      "cell_type": "markdown",
      "source": [
        "Recall the factorial function that you learned in previous courses:\n",
        "\n",
        "$$\n",
        "\\text{Fact}(n) = \n",
        "\\begin{cases}\n",
        "  1 & , \\text{if } n=0\\\\\n",
        "  n * \\text{Fact}(n-1) & , \\text{otherwise}\n",
        "\\end{cases}\n",
        "$$\n",
        "\n",
        "We implemented this recursively as follows:"
      ],
      "metadata": {
        "id": "Yp-6t1KrX4LB"
      }
    },
    {
      "cell_type": "code",
      "source": [
        "def Fact(n):\n",
        "  if (n == 0):\n",
        "    return 1\n",
        "  else:\n",
        "    return n * Fact(n - 1)\n",
        "\n",
        "for i in range(6):\n",
        "  print(f\"{i}! = {Fact(i)}\")"
      ],
      "metadata": {
        "id": "i0gZWkGpY5dW",
        "colab": {
          "base_uri": "https://localhost:8080/"
        },
        "outputId": "4402eb9e-3b27-4b40-98eb-c0f47d33ba08"
      },
      "execution_count": 3,
      "outputs": [
        {
          "output_type": "stream",
          "name": "stdout",
          "text": [
            "0! = 1\n",
            "1! = 1\n",
            "2! = 2\n",
            "3! = 6\n",
            "4! = 24\n",
            "5! = 120\n"
          ]
        }
      ]
    },
    {
      "cell_type": "markdown",
      "source": [
        "The translation of the **piecewise function** above (that describes a **recurrence relation**) to a recursive algorithm is literally just describing the function in Python syntax.\n",
        "\n",
        "Similarly, you should be familiar with the Fibonacci sequence:\n",
        "\n",
        "$$\n",
        "\\text{Fib}(n) = \n",
        "\\begin{cases}\n",
        "  0 & , \\text{if } n=1\\\\\n",
        "  1 & , \\text{if } n=2\\\\\n",
        "  \\text{Fib}(n-1) + \\text{Fib}(n-2) & , \\text{otherwise}\n",
        "\\end{cases}\n",
        "$$\n",
        "\n",
        "We implemented this recursively as follows:"
      ],
      "metadata": {
        "id": "oQVWLLxgZJa9"
      }
    },
    {
      "cell_type": "code",
      "source": [
        "def Fib(n):\n",
        "  if (n == 1):\n",
        "    return 0\n",
        "  elif (n == 2):\n",
        "    return 1\n",
        "  else:\n",
        "    return Fib(n - 1) + Fib(n - 2)\n",
        "\n",
        "for i in range(1, 20):\n",
        "  print(Fib(i), end=\", \")\n",
        "print(Fib(20))"
      ],
      "metadata": {
        "id": "cljz9-GVaa-E",
        "colab": {
          "base_uri": "https://localhost:8080/"
        },
        "outputId": "b32d449c-ed50-4caf-c769-4ac65e8880ea"
      },
      "execution_count": 4,
      "outputs": [
        {
          "output_type": "stream",
          "name": "stdout",
          "text": [
            "0, 1, 1, 2, 3, 5, 8, 13, 21, 34, 55, 89, 144, 233, 377, 610, 987, 1597, 2584, 4181\n"
          ]
        }
      ]
    },
    {
      "cell_type": "markdown",
      "source": [
        "Recall how we visualized progressing through the recursion.\n",
        "\n",
        "![fibonacci1.png: A Fibonacci tree representing recursive calls for `Fib(6)`](https://drive.google.com/uc?id=1ahCjoTHHSlYT6Sn7cWDCb0oUnSb6vW0G)\n",
        "\n",
        "And how we built the results back up as the recursive calls terminated\n",
        "\n",
        "![fibonacci1.png: Building the results back up the tree](https://drive.google.com/uc?id=1D7CszG_rchaFXpJIUxgneSkWB8xzixSV)\n",
        "\n",
        "We can also apply recursion to the problem of traversing a linked list. Recall how we did this iteratively:\n",
        "\n",
        "```\n",
        "def traverse():\n",
        "  current = head\n",
        "\n",
        "  while (current != None):\n",
        "    print(current.data)\n",
        "    current = current.link\n",
        "```\n",
        "\n",
        "We can implement this recursively as follows:\n",
        "\n",
        "```\n",
        "def traverse(node):\n",
        "  if (node == None):\n",
        "    return\n",
        "  else:\n",
        "    print(node.data)\n",
        "    traverse(node.link)\n",
        "\n",
        "traverse(head)\n",
        "```\n",
        "\n",
        "Using our latest implementation of the `UnorderedList` class, we can add `traverse()` and `traverse_recursively()` functions that implement these algorithms:"
      ],
      "metadata": {
        "id": "xB8xu2Gia2SA"
      }
    },
    {
      "cell_type": "code",
      "source": [
        "!pip install git+https://github.com/jgourd/CSC201UT\n",
        "\n",
        "from CSC201UT import UnorderedList\n",
        "\n",
        "def traverse(self, current):\n",
        "  while (current != None):\n",
        "    print(current._data, end=\" \")\n",
        "    current = current._link\n",
        "  print()\n",
        "\n",
        "def traverse_recursively(self, node):\n",
        "  if (node == None):\n",
        "    print()\n",
        "  else:\n",
        "    print(node._data, end=\" \")\n",
        "    self.traverse_recursively(node._link)\n",
        "\n",
        "UnorderedList.traverse = traverse\n",
        "UnorderedList.traverse_recursively = traverse_recursively\n",
        "\n",
        "my_list = UnorderedList()\n",
        "my_list.append(9)\n",
        "my_list.append(7)\n",
        "my_list.append(5)\n",
        "my_list.append(3)\n",
        "my_list.append(1)\n",
        "my_list.traverse(my_list._head)\n",
        "my_list.traverse_recursively(my_list._head)"
      ],
      "metadata": {
        "id": "0G8j-mcsa_Le",
        "colab": {
          "base_uri": "https://localhost:8080/"
        },
        "outputId": "39fed2ad-d662-4bb4-b980-6d9eb2ed0ac9"
      },
      "execution_count": 5,
      "outputs": [
        {
          "output_type": "stream",
          "name": "stdout",
          "text": [
            "Looking in indexes: https://pypi.org/simple, https://us-python.pkg.dev/colab-wheels/public/simple/\n",
            "Collecting git+https://github.com/jgourd/CSC201UT\n",
            "  Cloning https://github.com/jgourd/CSC201UT to /tmp/pip-req-build-pwdifkuu\n",
            "  Running command git clone -q https://github.com/jgourd/CSC201UT /tmp/pip-req-build-pwdifkuu\n",
            "9 7 5 3 1 \n",
            "9 7 5 3 1 \n"
          ]
        }
      ]
    },
    {
      "cell_type": "markdown",
      "source": [
        "## Visualizing recursion"
      ],
      "metadata": {
        "id": "O03mEloVdH_o"
      }
    },
    {
      "cell_type": "markdown",
      "source": [
        "For most beginner computer science students, it can be difficult to find a mental model or a way of visualizing what is happening in a recursive function. This can make recursion difficult to grasp. To try to address this, let's see if we can visualize the recursive process.\n",
        "\n",
        "The tool that we will use for our illustrations is a Python graphics module called **turtle**. The turtle module is quite simple. You can create a *turtle*, and the turtle can move forward, backward, turn left, turn right, etc. The turtle can have its tail up or down. When the turtle's tail is down and the turtle moves, it draws a line as it moves. To increase the artistic value of the turtle, we can change the width of the tail as well as the color of the ink the tail is dipped in.\n",
        "\n",
        "Let's begin with a simple program that draws a spiral recursively."
      ],
      "metadata": {
        "id": "FIwAH31_dJbR"
      }
    },
    {
      "cell_type": "code",
      "source": [
        "!pip3 install ColabTurtle\n",
        "\n",
        "from ColabTurtle.Turtle import *\n",
        "\n",
        "def spiral(length):\n",
        "  if (length > 0):\n",
        "    forward(length)\n",
        "    right(90)\n",
        "    spiral(length - 5)\n",
        "\n",
        "initializeTurtle(7, (600, 300))\n",
        "spiral(100)"
      ],
      "metadata": {
        "id": "jGCSw_NKdtjp",
        "colab": {
          "base_uri": "https://localhost:8080/",
          "height": 356
        },
        "outputId": "d7be8706-8a0d-4530-92d9-6f208e38e061"
      },
      "execution_count": 6,
      "outputs": [
        {
          "output_type": "stream",
          "name": "stdout",
          "text": [
            "Looking in indexes: https://pypi.org/simple, https://us-python.pkg.dev/colab-wheels/public/simple/\n",
            "Requirement already satisfied: ColabTurtle in /usr/local/lib/python3.7/dist-packages (2.1.0)\n"
          ]
        },
        {
          "output_type": "display_data",
          "data": {
            "text/plain": [
              "<IPython.core.display.HTML object>"
            ],
            "text/html": [
              "\n",
              "      <svg width=\"600\" height=\"300\">\n",
              "        <rect width=\"100%\" height=\"100%\" fill=\"black\"/>\n",
              "        <line x1=\"300\" y1=\"150\" x2=\"300.0\" y2=\"50.0\" stroke-linecap=\"round\" style=\"stroke:white;stroke-width:4\"/><line x1=\"300.0\" y1=\"50.0\" x2=\"395.0\" y2=\"50.0\" stroke-linecap=\"round\" style=\"stroke:white;stroke-width:4\"/><line x1=\"395.0\" y1=\"50.0\" x2=\"395.0\" y2=\"140.0\" stroke-linecap=\"round\" style=\"stroke:white;stroke-width:4\"/><line x1=\"395.0\" y1=\"140.0\" x2=\"310.0\" y2=\"140.0\" stroke-linecap=\"round\" style=\"stroke:white;stroke-width:4\"/><line x1=\"310.0\" y1=\"140.0\" x2=\"310.0\" y2=\"60.0\" stroke-linecap=\"round\" style=\"stroke:white;stroke-width:4\"/><line x1=\"310.0\" y1=\"60.0\" x2=\"385.0\" y2=\"60.0\" stroke-linecap=\"round\" style=\"stroke:white;stroke-width:4\"/><line x1=\"385.0\" y1=\"60.0\" x2=\"385.0\" y2=\"130.0\" stroke-linecap=\"round\" style=\"stroke:white;stroke-width:4\"/><line x1=\"385.0\" y1=\"130.0\" x2=\"320.0\" y2=\"130.0\" stroke-linecap=\"round\" style=\"stroke:white;stroke-width:4\"/><line x1=\"320.0\" y1=\"130.0\" x2=\"320.0\" y2=\"70.0\" stroke-linecap=\"round\" style=\"stroke:white;stroke-width:4\"/><line x1=\"320.0\" y1=\"70.0\" x2=\"375.0\" y2=\"70.0\" stroke-linecap=\"round\" style=\"stroke:white;stroke-width:4\"/><line x1=\"375.0\" y1=\"70.0\" x2=\"375.0\" y2=\"120.0\" stroke-linecap=\"round\" style=\"stroke:white;stroke-width:4\"/><line x1=\"375.0\" y1=\"120.0\" x2=\"330.0\" y2=\"120.0\" stroke-linecap=\"round\" style=\"stroke:white;stroke-width:4\"/><line x1=\"330.0\" y1=\"120.0\" x2=\"330.0\" y2=\"80.0\" stroke-linecap=\"round\" style=\"stroke:white;stroke-width:4\"/><line x1=\"330.0\" y1=\"80.0\" x2=\"365.0\" y2=\"80.0\" stroke-linecap=\"round\" style=\"stroke:white;stroke-width:4\"/><line x1=\"365.0\" y1=\"80.0\" x2=\"365.0\" y2=\"110.0\" stroke-linecap=\"round\" style=\"stroke:white;stroke-width:4\"/><line x1=\"365.0\" y1=\"110.0\" x2=\"340.0\" y2=\"110.0\" stroke-linecap=\"round\" style=\"stroke:white;stroke-width:4\"/><line x1=\"340.0\" y1=\"110.0\" x2=\"340.0\" y2=\"90.0\" stroke-linecap=\"round\" style=\"stroke:white;stroke-width:4\"/><line x1=\"340.0\" y1=\"90.0\" x2=\"355.0\" y2=\"90.0\" stroke-linecap=\"round\" style=\"stroke:white;stroke-width:4\"/><line x1=\"355.0\" y1=\"90.0\" x2=\"355.0\" y2=\"100.0\" stroke-linecap=\"round\" style=\"stroke:white;stroke-width:4\"/><line x1=\"355.0\" y1=\"100.0\" x2=\"350.0\" y2=\"100.0\" stroke-linecap=\"round\" style=\"stroke:white;stroke-width:4\"/>\n",
              "        <g visibility=visible transform=\"rotate(360,350.0,100.0) translate(332.0, 82.0)\">\n",
              "<path style=\" stroke:none;fill-rule:evenodd;fill:white;fill-opacity:1;\" d=\"M 18.214844 0.632812 C 16.109375 1.800781 15.011719 4.074219 15.074219 7.132812 L 15.085938 7.652344 L 14.785156 7.496094 C 13.476562 6.824219 11.957031 6.671875 10.40625 7.066406 C 8.46875 7.550781 6.515625 9.15625 4.394531 11.992188 C 3.0625 13.777344 2.679688 14.636719 3.042969 15.027344 L 3.15625 15.152344 L 3.519531 15.152344 C 4.238281 15.152344 4.828125 14.886719 8.1875 13.039062 C 9.386719 12.378906 10.371094 11.839844 10.378906 11.839844 C 10.386719 11.839844 10.355469 11.929688 10.304688 12.035156 C 9.832031 13.09375 9.257812 14.820312 8.96875 16.078125 C 7.914062 20.652344 8.617188 24.53125 11.070312 27.660156 C 11.351562 28.015625 11.363281 27.914062 10.972656 28.382812 C 8.925781 30.84375 7.945312 33.28125 8.238281 35.1875 C 8.289062 35.527344 8.28125 35.523438 8.917969 35.523438 C 10.941406 35.523438 13.074219 34.207031 15.136719 31.6875 C 15.359375 31.417969 15.328125 31.425781 15.5625 31.574219 C 16.292969 32.042969 18.023438 32.964844 18.175781 32.964844 C 18.335938 32.964844 19.941406 32.210938 20.828125 31.71875 C 20.996094 31.625 21.136719 31.554688 21.136719 31.558594 C 21.203125 31.664062 21.898438 32.414062 22.222656 32.730469 C 23.835938 34.300781 25.5625 35.132812 27.582031 35.300781 C 27.90625 35.328125 27.9375 35.308594 28.007812 34.984375 C 28.382812 33.242188 27.625 30.925781 25.863281 28.425781 L 25.542969 27.96875 L 25.699219 27.785156 C 28.945312 23.960938 29.132812 18.699219 26.257812 11.96875 L 26.207031 11.84375 L 27.945312 12.703125 C 31.53125 14.476562 32.316406 14.800781 33.03125 14.800781 C 33.976562 14.800781 33.78125 13.9375 32.472656 12.292969 C 28.519531 7.355469 25.394531 5.925781 21.921875 7.472656 L 21.558594 7.636719 L 21.578125 7.542969 C 21.699219 6.992188 21.761719 5.742188 21.699219 5.164062 C 21.496094 3.296875 20.664062 1.964844 19.003906 0.855469 C 18.480469 0.503906 18.457031 0.5 18.214844 0.632812\"/>\n",
              "</g>\n",
              "      </svg>\n",
              "    "
            ]
          },
          "metadata": {}
        }
      ]
    },
    {
      "cell_type": "markdown",
      "source": [
        "When the turtle is created, it also creates a window for itself to draw in. The `spiral()` function is implemented recursively. The base case for this simple function is when the length of the line we want to draw, as given by the `length` parameter, is reduced to zero (or less). If the length of the line is longer than zero, the turtle is instructed to go forward by `length` units and then turn right 90 degrees. The recursive step is when the `spiral()` function is called again with a reduced length.\n",
        " \n",
        "Let's now draw a **fractal tree**. Recall that fractals are geometric shapes that can be infinitely broken down into similar parts. You should remember writing a program that generated the [Sierpinski Trangle](https://en.wikipedia.org/wiki/Sierpi%C5%84ski_triangle).\n",
        "\n",
        "To understand how this is going to work, it is helpful to think of how we might describe a tree as a fractal. We could say that a tree is a trunk, with a smaller tree going off to the right and another smaller tree going off to the left. If you think of this definition recursively it means that we will apply the recursive definition of a tree to both of the smaller left and right trees. And this could go on many times. For example, a branch going off to the left is just a smaller tree with even smaller trees branching off of it -- and so on.\n",
        "\n",
        "Let's see how we might code this."
      ],
      "metadata": {
        "id": "FJ-y8kU7f6gF"
      }
    },
    {
      "cell_type": "code",
      "source": [
        "!pip3 install ColabTurtle\n",
        "\n",
        "from ColabTurtle.Turtle import *\n",
        "\n",
        "def tree(length):\n",
        "  if (length > 5):\n",
        "    forward(length)\n",
        "    right(20)\n",
        "    tree(length - 15)\n",
        "    left(40)\n",
        "    tree(length - 15)\n",
        "    right(20)\n",
        "    backward(length)\n",
        "\n",
        "initializeTurtle(7, (600, 400))\n",
        "shape(\"circle\")\n",
        "bgcolor(\"white\")\n",
        "color(\"green\")\n",
        "\n",
        "up()\n",
        "backward(175)\n",
        "down()\n",
        "tree(75)"
      ],
      "metadata": {
        "id": "YJYKQXsAg8QU",
        "colab": {
          "base_uri": "https://localhost:8080/",
          "height": 456
        },
        "outputId": "1515e033-3394-49ee-f2dc-b3d8b1974fdf"
      },
      "execution_count": 7,
      "outputs": [
        {
          "output_type": "stream",
          "name": "stdout",
          "text": [
            "Looking in indexes: https://pypi.org/simple, https://us-python.pkg.dev/colab-wheels/public/simple/\n",
            "Requirement already satisfied: ColabTurtle in /usr/local/lib/python3.7/dist-packages (2.1.0)\n"
          ]
        },
        {
          "output_type": "display_data",
          "data": {
            "text/plain": [
              "<IPython.core.display.HTML object>"
            ],
            "text/html": [
              "\n",
              "      <svg width=\"600\" height=\"400\">\n",
              "        <rect width=\"100%\" height=\"100%\" fill=\"white\"/>\n",
              "        <line x1=\"300.0\" y1=\"375.0\" x2=\"300.0\" y2=\"300.0\" stroke-linecap=\"round\" style=\"stroke:green;stroke-width:4\"/><line x1=\"300.0\" y1=\"300.0\" x2=\"320.521\" y2=\"243.618\" stroke-linecap=\"round\" style=\"stroke:green;stroke-width:4\"/><line x1=\"320.521\" y1=\"243.618\" x2=\"349.446\" y2=\"209.146\" stroke-linecap=\"round\" style=\"stroke:green;stroke-width:4\"/><line x1=\"349.446\" y1=\"209.146\" x2=\"375.427\" y2=\"194.146\" stroke-linecap=\"round\" style=\"stroke:green;stroke-width:4\"/><line x1=\"375.427\" y1=\"194.146\" x2=\"390.199\" y2=\"191.541\" stroke-linecap=\"round\" style=\"stroke:green;stroke-width:4\"/><line x1=\"390.199\" y1=\"191.541\" x2=\"375.427\" y2=\"194.146\" stroke-linecap=\"round\" style=\"stroke:green;stroke-width:4\"/><line x1=\"375.427\" y1=\"194.146\" x2=\"385.069\" y2=\"182.655\" stroke-linecap=\"round\" style=\"stroke:green;stroke-width:4\"/><line x1=\"385.069\" y1=\"182.655\" x2=\"375.427\" y2=\"194.146\" stroke-linecap=\"round\" style=\"stroke:green;stroke-width:4\"/><line x1=\"375.427\" y1=\"194.146\" x2=\"349.446\" y2=\"209.146\" stroke-linecap=\"round\" style=\"stroke:green;stroke-width:4\"/><line x1=\"349.446\" y1=\"209.146\" x2=\"359.707\" y2=\"180.955\" stroke-linecap=\"round\" style=\"stroke:green;stroke-width:4\"/><line x1=\"359.707\" y1=\"180.955\" x2=\"369.349\" y2=\"169.464\" stroke-linecap=\"round\" style=\"stroke:green;stroke-width:4\"/><line x1=\"369.349\" y1=\"169.464\" x2=\"359.707\" y2=\"180.955\" stroke-linecap=\"round\" style=\"stroke:green;stroke-width:4\"/><line x1=\"359.707\" y1=\"180.955\" x2=\"359.707\" y2=\"165.955\" stroke-linecap=\"round\" style=\"stroke:green;stroke-width:4\"/><line x1=\"359.707\" y1=\"165.955\" x2=\"359.707\" y2=\"180.955\" stroke-linecap=\"round\" style=\"stroke:green;stroke-width:4\"/><line x1=\"359.707\" y1=\"180.955\" x2=\"349.446\" y2=\"209.146\" stroke-linecap=\"round\" style=\"stroke:green;stroke-width:4\"/><line x1=\"349.446\" y1=\"209.146\" x2=\"320.521\" y2=\"243.618\" stroke-linecap=\"round\" style=\"stroke:green;stroke-width:4\"/><line x1=\"320.521\" y1=\"243.618\" x2=\"320.521\" y2=\"198.618\" stroke-linecap=\"round\" style=\"stroke:green;stroke-width:4\"/><line x1=\"320.521\" y1=\"198.618\" x2=\"330.782\" y2=\"170.427\" stroke-linecap=\"round\" style=\"stroke:green;stroke-width:4\"/><line x1=\"330.782\" y1=\"170.427\" x2=\"340.424\" y2=\"158.936\" stroke-linecap=\"round\" style=\"stroke:green;stroke-width:4\"/><line x1=\"340.424\" y1=\"158.936\" x2=\"330.782\" y2=\"170.427\" stroke-linecap=\"round\" style=\"stroke:green;stroke-width:4\"/><line x1=\"330.782\" y1=\"170.427\" x2=\"330.782\" y2=\"155.427\" stroke-linecap=\"round\" style=\"stroke:green;stroke-width:4\"/><line x1=\"330.782\" y1=\"155.427\" x2=\"330.782\" y2=\"170.427\" stroke-linecap=\"round\" style=\"stroke:green;stroke-width:4\"/><line x1=\"330.782\" y1=\"170.427\" x2=\"320.521\" y2=\"198.618\" stroke-linecap=\"round\" style=\"stroke:green;stroke-width:4\"/><line x1=\"320.521\" y1=\"198.618\" x2=\"310.26\" y2=\"170.427\" stroke-linecap=\"round\" style=\"stroke:green;stroke-width:4\"/><line x1=\"310.26\" y1=\"170.427\" x2=\"310.26\" y2=\"155.427\" stroke-linecap=\"round\" style=\"stroke:green;stroke-width:4\"/><line x1=\"310.26\" y1=\"155.427\" x2=\"310.26\" y2=\"170.427\" stroke-linecap=\"round\" style=\"stroke:green;stroke-width:4\"/><line x1=\"310.26\" y1=\"170.427\" x2=\"300.618\" y2=\"158.936\" stroke-linecap=\"round\" style=\"stroke:green;stroke-width:4\"/><line x1=\"300.618\" y1=\"158.936\" x2=\"310.26\" y2=\"170.427\" stroke-linecap=\"round\" style=\"stroke:green;stroke-width:4\"/><line x1=\"310.26\" y1=\"170.427\" x2=\"320.521\" y2=\"198.618\" stroke-linecap=\"round\" style=\"stroke:green;stroke-width:4\"/><line x1=\"320.521\" y1=\"198.618\" x2=\"320.521\" y2=\"243.618\" stroke-linecap=\"round\" style=\"stroke:green;stroke-width:4\"/><line x1=\"320.521\" y1=\"243.618\" x2=\"300.0\" y2=\"300.0\" stroke-linecap=\"round\" style=\"stroke:green;stroke-width:4\"/><line x1=\"300.0\" y1=\"300.0\" x2=\"279.479\" y2=\"243.618\" stroke-linecap=\"round\" style=\"stroke:green;stroke-width:4\"/><line x1=\"279.479\" y1=\"243.618\" x2=\"279.479\" y2=\"198.618\" stroke-linecap=\"round\" style=\"stroke:green;stroke-width:4\"/><line x1=\"279.479\" y1=\"198.618\" x2=\"289.74\" y2=\"170.427\" stroke-linecap=\"round\" style=\"stroke:green;stroke-width:4\"/><line x1=\"289.74\" y1=\"170.427\" x2=\"299.382\" y2=\"158.936\" stroke-linecap=\"round\" style=\"stroke:green;stroke-width:4\"/><line x1=\"299.382\" y1=\"158.936\" x2=\"289.74\" y2=\"170.427\" stroke-linecap=\"round\" style=\"stroke:green;stroke-width:4\"/><line x1=\"289.74\" y1=\"170.427\" x2=\"289.74\" y2=\"155.427\" stroke-linecap=\"round\" style=\"stroke:green;stroke-width:4\"/><line x1=\"289.74\" y1=\"155.427\" x2=\"289.74\" y2=\"170.427\" stroke-linecap=\"round\" style=\"stroke:green;stroke-width:4\"/><line x1=\"289.74\" y1=\"170.427\" x2=\"279.479\" y2=\"198.618\" stroke-linecap=\"round\" style=\"stroke:green;stroke-width:4\"/><line x1=\"279.479\" y1=\"198.618\" x2=\"269.218\" y2=\"170.427\" stroke-linecap=\"round\" style=\"stroke:green;stroke-width:4\"/><line x1=\"269.218\" y1=\"170.427\" x2=\"269.218\" y2=\"155.427\" stroke-linecap=\"round\" style=\"stroke:green;stroke-width:4\"/><line x1=\"269.218\" y1=\"155.427\" x2=\"269.218\" y2=\"170.427\" stroke-linecap=\"round\" style=\"stroke:green;stroke-width:4\"/><line x1=\"269.218\" y1=\"170.427\" x2=\"259.576\" y2=\"158.936\" stroke-linecap=\"round\" style=\"stroke:green;stroke-width:4\"/><line x1=\"259.576\" y1=\"158.936\" x2=\"269.218\" y2=\"170.427\" stroke-linecap=\"round\" style=\"stroke:green;stroke-width:4\"/><line x1=\"269.218\" y1=\"170.427\" x2=\"279.479\" y2=\"198.618\" stroke-linecap=\"round\" style=\"stroke:green;stroke-width:4\"/><line x1=\"279.479\" y1=\"198.618\" x2=\"279.479\" y2=\"243.618\" stroke-linecap=\"round\" style=\"stroke:green;stroke-width:4\"/><line x1=\"279.479\" y1=\"243.618\" x2=\"250.554\" y2=\"209.146\" stroke-linecap=\"round\" style=\"stroke:green;stroke-width:4\"/><line x1=\"250.554\" y1=\"209.146\" x2=\"240.293\" y2=\"180.955\" stroke-linecap=\"round\" style=\"stroke:green;stroke-width:4\"/><line x1=\"240.293\" y1=\"180.955\" x2=\"240.293\" y2=\"165.955\" stroke-linecap=\"round\" style=\"stroke:green;stroke-width:4\"/><line x1=\"240.293\" y1=\"165.955\" x2=\"240.293\" y2=\"180.955\" stroke-linecap=\"round\" style=\"stroke:green;stroke-width:4\"/><line x1=\"240.293\" y1=\"180.955\" x2=\"230.651\" y2=\"169.464\" stroke-linecap=\"round\" style=\"stroke:green;stroke-width:4\"/><line x1=\"230.651\" y1=\"169.464\" x2=\"240.293\" y2=\"180.955\" stroke-linecap=\"round\" style=\"stroke:green;stroke-width:4\"/><line x1=\"240.293\" y1=\"180.955\" x2=\"250.554\" y2=\"209.146\" stroke-linecap=\"round\" style=\"stroke:green;stroke-width:4\"/><line x1=\"250.554\" y1=\"209.146\" x2=\"224.573\" y2=\"194.146\" stroke-linecap=\"round\" style=\"stroke:green;stroke-width:4\"/><line x1=\"224.573\" y1=\"194.146\" x2=\"214.931\" y2=\"182.655\" stroke-linecap=\"round\" style=\"stroke:green;stroke-width:4\"/><line x1=\"214.931\" y1=\"182.655\" x2=\"224.573\" y2=\"194.146\" stroke-linecap=\"round\" style=\"stroke:green;stroke-width:4\"/><line x1=\"224.573\" y1=\"194.146\" x2=\"209.801\" y2=\"191.541\" stroke-linecap=\"round\" style=\"stroke:green;stroke-width:4\"/><line x1=\"209.801\" y1=\"191.541\" x2=\"224.573\" y2=\"194.146\" stroke-linecap=\"round\" style=\"stroke:green;stroke-width:4\"/><line x1=\"224.573\" y1=\"194.146\" x2=\"250.554\" y2=\"209.146\" stroke-linecap=\"round\" style=\"stroke:green;stroke-width:4\"/><line x1=\"250.554\" y1=\"209.146\" x2=\"279.479\" y2=\"243.618\" stroke-linecap=\"round\" style=\"stroke:green;stroke-width:4\"/><line x1=\"279.479\" y1=\"243.618\" x2=\"300.0\" y2=\"300.0\" stroke-linecap=\"round\" style=\"stroke:green;stroke-width:4\"/><line x1=\"300.0\" y1=\"300.0\" x2=\"300.0\" y2=\"375.0\" stroke-linecap=\"round\" style=\"stroke:green;stroke-width:4\"/>\n",
              "        \n",
              "      <g visibility=visible transform=\"rotate(180,300.0,375.0) translate(300.0, 375.0)\">\n",
              "        <circle stroke=\"green\" stroke-width=\"3\" fill=\"transparent\" r=\"12\" cx=\"0\" cy=\"0\"/>\n",
              "        <polygon points=\"0,19 3,16 -3,16\" style=\"fill:green;stroke:green;stroke-width:2\"/>\n",
              "      </g>\n",
              "    \n",
              "      </svg>\n",
              "    "
            ]
          },
          "metadata": {}
        }
      ]
    },
    {
      "cell_type": "markdown",
      "source": [
        "There are a few things to notice about the resulting fractal tree:\n",
        "\n",
        "* Each branch point on the tree corresponds to a recursive call.\n",
        "* The tree is first drawn to the right, all the way down to its shortest twig.\n",
        "* The program works its way back up the trunk until the entire right side of the tree is drawn.\n",
        "* Then, the left side of the tree is drawn, but not by going as far out to the left as possible; instead, the entire right side of the left part of the tree is drawn until we finally make our way out to the smallest twig on the left.\n",
        "\n",
        "You should see that on lines 9 and 11, we are making a recursive call. On line 9 we make the recursive call right after the turtle turns to the right by 20 degrees; this is the right tree mentioned above. Then on line 11, the turtle makes another recursive call, but this time after turning left by 40 degrees. The reason the turtle must turn left by 40 degrees is that it needs to undo the original 20 degree turn to the right and then do an additional 20 degree turn to the left in order to draw the left tree. Also notice that each time we make a recursive call to tree, we subtract some amount from the `length` parameter. This is to make sure that the recursive trees get smaller and smaller. You should also recognize the initial *if*-statement on line 6 as a check for the base case of `length` getting too small."
      ],
      "metadata": {
        "id": "0FJxhE1BrP2T"
      }
    },
    {
      "cell_type": "markdown",
      "source": [
        "## Complex recursive problems"
      ],
      "metadata": {
        "id": "vfoBddr9s48e"
      }
    },
    {
      "cell_type": "markdown",
      "source": [
        "### The Towers of Hanoi"
      ],
      "metadata": {
        "id": "zvE3SVz1s-pH"
      }
    },
    {
      "cell_type": "markdown",
      "source": [
        "Recall the Towers of Hanoi problem that was discussed in earlier courses. You are presented with three pegs (or towers) on which you can move various discs around. Initially, the discs rest on a single tower (the largest is on the bottom, and the smallest is on the top). The objective is to move the discs from this source tower to some destination tower. But, of course, there are rules:\n",
        "\n",
        "* Only a single disc can be moved at a time;\n",
        "* No larger disc may ever be placed on top of a smaller disc; and\n",
        "* Moving a single disc constitutes one move.\n",
        "\n",
        "The objective, of course, is to move all of the discs from a source tower to a destination tower in the minimum number of moves. Here is an example of what the start of the game looks like (with three discs), with the source tower on the left and destination tower on the right:\n",
        "\n",
        "![hanoi1.png: The Towers of Hanoi](https://drive.google.com/uc?id=1pv_IlEBao7LHS3tv0Yr9WqYXJ_h6Ld7b)\n",
        "\n",
        "The game is interesting because it presents us with an optimization problem. That is, the goal is not just to find a solution (i.e., to successfully move the discs from the source tower on the left to the destination tower on the right), but to find one that is optimal (i.e., that results in the minimum number of moves).\n",
        "\n",
        "We discussed a recursive solution to this problem:\n",
        "\n",
        "* Move all but the bottom disc from the source tower to the spare tower;\n",
        "* Move the largest disc from the source tower to the destination tower; and\n",
        "* Move the discs on the spare tower to the destination tower.\n",
        "\n",
        "Or, in general, given $n$ discs:\n",
        "\n",
        "* Move $n - 1$ discs from source to spare;\n",
        "* Move 1 disc from source to destination; and\n",
        "* Move $n - 1$ discs from spare to destination.\n",
        "\n",
        "In Python:"
      ],
      "metadata": {
        "id": "5jG4kopHtBdr"
      }
    },
    {
      "cell_type": "code",
      "source": [
        "def hanoi(n, src, dst, spr):\n",
        "  if (n == 1):\n",
        "    print(f\"{src} -> {dst}\")\n",
        "  else:\n",
        "    hanoi(n - 1, src, spr, dst)\n",
        "    hanoi(1, src, dst, spr)\n",
        "    hanoi(n - 1, spr, dst, src)\n",
        "\n",
        "hanoi(3, \"A\", \"C\", \"B\")"
      ],
      "metadata": {
        "id": "t5G2pnfbuFyW",
        "colab": {
          "base_uri": "https://localhost:8080/"
        },
        "outputId": "81fd84e6-befd-449c-8b24-67af08d4d5d5"
      },
      "execution_count": 8,
      "outputs": [
        {
          "output_type": "stream",
          "name": "stdout",
          "text": [
            "A -> C\n",
            "A -> B\n",
            "C -> B\n",
            "A -> C\n",
            "B -> A\n",
            "B -> C\n",
            "A -> C\n"
          ]
        }
      ]
    },
    {
      "cell_type": "markdown",
      "source": [
        "### Exploring a maze"
      ],
      "metadata": {
        "id": "FndtIdmOzeEe"
      }
    },
    {
      "cell_type": "markdown",
      "source": [
        "How do you find your way out of a maze? There are many strategies. One, for example, has you always follow the right wall. Under most circumstances, you should find your way out. Let's try to program a way out of a maze. Here's an example of a relatively simple maze, where \"O\" is the \"mouse\" starting point, and the gap at the edge of the maze is the exit."
      ],
      "metadata": {
        "id": "cRw4fISUzgJL"
      }
    },
    {
      "cell_type": "code",
      "source": [
        "%%writefile maze.txt\n",
        "######################\n",
        "#   #   ## ##        #\n",
        "      #     ##########\n",
        "# #    ##  #### ### ##\n",
        "# #   # # ##    ###  #\n",
        "#          ##  ##  # #\n",
        "##### # #      ##  # #\n",
        "##### ###  # #  ##   #\n",
        "#          # # O# #  #\n",
        "##### #  # # #     # #\n",
        "######################"
      ],
      "metadata": {
        "id": "eEWohoqczyJv",
        "colab": {
          "base_uri": "https://localhost:8080/"
        },
        "outputId": "688b096d-0f02-4076-96c2-5d058fbbbe8a"
      },
      "execution_count": 9,
      "outputs": [
        {
          "output_type": "stream",
          "name": "stdout",
          "text": [
            "Overwriting maze.txt\n"
          ]
        }
      ]
    },
    {
      "cell_type": "markdown",
      "source": [
        "To code something that will allow the mouse to explore the maze, trying valid paths, detecting obstacles and dead ends, etc, we will first need to read in the maze from the file generated above (maze.txt). We'll make sure to note where the mouse starts, and then we will have the mouse explore the maze in a very specific way (using recursion):\n",
        "\n",
        "* From the starting position, we will first try going N one square and then recursively try our procedure from there.\n",
        "* If we are not successful by trying a N path as the first step, then we will take a step to the S and recursively repeat our procedure.\n",
        "* If S does not work, then we will try a step to the W as the first step and recursively apply our procedure.\n",
        "* If N, S, and W have not been successful, then apply the procedure recursively from a position one step to our E.\n",
        "* If none of these directions works, then there is no way to get out of the maze -- and we fail.\n",
        "\n",
        "On the surface, that may sound relatively easy; however, there are a couple of details to talk about. Suppose that we take our first recursive step by going N. By following our procedure, the next step would also be to the N. But if the N is blocked by a wall, for example, we must look at the next step of the procedure and try going to the S. Unfortunately that step to the S brings us right back to our original starting place. If we apply the recursive procedure from there we will just go back one step to the N and be in an infinite loop.\n",
        "\n",
        "So, we must have a strategy to **remember** where we have been. In this case we will assume that we have a bag of bread crumbs that we can drop along our way. If we take a step in a certain direction and find that there is a bread crumb already at that position, we know that we should immediately back up and try the next direction in our procedure. As we will see when we look at the code for this algorithm, backing up is as simple as returning from a recursive function call.\n",
        "\n",
        "For recursion to work properly, there must be a base case. In this program, there are four base cases to consider:\n",
        "\n",
        "* The mouse has run into a wall. Since the position is occupied by a wall no further exploration can take place.\n",
        "* The mouse has found a position that has already been explored. We do not want to continue exploring from this position or we will get into a loop.\n",
        "* We have found an outside edge, not occupied by a wall. In other words we have found an exit from the maze.\n",
        "* We have explored a position unsuccessfully in all four directions."
      ],
      "metadata": {
        "id": "8HBWRoW2U5fu"
      }
    },
    {
      "cell_type": "code",
      "source": [
        "#@title\n",
        "from time import sleep\n",
        "from IPython.display import clear_output\n",
        "\n",
        "USER_CONTROLS = False\n",
        "DELAY = 1\n",
        "SHOW_INDICATORS = True\n",
        "\n",
        "MOUSE = \"O\"\n",
        "OBSTACLE = \"#\"\n",
        "EXIT = \".\"\n",
        "CRUMB = \".\"\n",
        "INDICATORS = [ \"^\", \"v\", \"<\", \">\" ]\n",
        "DEAD_END = \"-\"\n",
        "\n",
        "class Maze:\n",
        "  def __init__(self, filename):\n",
        "    self._maze = [ ]\n",
        "\n",
        "    f = open(filename, \"r\")\n",
        "    for line in f:\n",
        "      line = line.rstrip(\"\\n\")\n",
        "      row = [ ]\n",
        "      for char in line:\n",
        "        if (char == MOUSE):\n",
        "          self._row = len(self._maze)\n",
        "          self._col = len(row)\n",
        "        row.append(char)\n",
        "      self._maze.append(row)\n",
        "    f.close()\n",
        "\n",
        "  def __str__(self):\n",
        "    s = \"\"\n",
        "\n",
        "    for row in self._maze:\n",
        "      for col in row:\n",
        "        s += col\n",
        "      s += \"\\n\"\n",
        "\n",
        "    return s\n",
        "\n",
        "  def is_exit(self, row, col):\n",
        "    return (row == 0 or row == len(self._maze) - 1 or col == 0 or col == len(self._maze[0]) - 1)\n",
        "\n",
        "  def __getitem__(self, i):\n",
        "    return self._maze[i]\n",
        "\n",
        "  def solve(self, row, col, val=None):\n",
        "    clear_output()\n",
        "    print(self)\n",
        "    if (USER_CONTROLS):\n",
        "      input(\"\")\n",
        "    else:\n",
        "      sleep(DELAY)\n",
        "\n",
        "    # get the character at the current location\n",
        "    char = self._maze[row][col]\n",
        "\n",
        "    # there's an obstacle, dead end, or a crumb has already been placed\n",
        "    if (char == OBSTACLE or char == DEAD_END or char == CRUMB or char in INDICATORS):\n",
        "      return False\n",
        "    # we've found the exit!\n",
        "    elif (self.is_exit(row, col)):\n",
        "      self._maze[row][col] = EXIT\n",
        "      clear_output()\n",
        "      print(self)\n",
        "      if (USER_CONTROLS):\n",
        "        input(\"\")\n",
        "      else:\n",
        "        sleep(DELAY)\n",
        "      return True\n",
        "    # otherwise, we haven't visited here yet\n",
        "    # add a crumb\n",
        "    self._maze[row][col] = CRUMB\n",
        "    clear_output()\n",
        "    print(self)\n",
        "    if (USER_CONTROLS):\n",
        "      input(\"\")\n",
        "    else:\n",
        "      sleep(DELAY)\n",
        "\n",
        "    # add the N indicator\n",
        "    if (SHOW_INDICATORS):\n",
        "      self._maze[row][col] = \"^\"\n",
        "    # check N\n",
        "    found = self.solve(row - 1, col)\n",
        "    # N didn't work\n",
        "    if (not found):\n",
        "      # add the S indicator\n",
        "      if (SHOW_INDICATORS):\n",
        "        self._maze[row][col] = \"v\"\n",
        "      # check S\n",
        "      found = self.solve(row + 1, col)\n",
        "      # S didn't work\n",
        "      if (not found):\n",
        "        # add the W indicator\n",
        "        if (SHOW_INDICATORS):\n",
        "          self._maze[row][col] = \"<\"\n",
        "        # check W\n",
        "        found = self.solve(row, col - 1)\n",
        "        # W didn't work\n",
        "        if (not found):\n",
        "          # add the E indicator\n",
        "          if (SHOW_INDICATORS):\n",
        "            self._maze[row][col] = \">\"\n",
        "          # check E\n",
        "          found = self.solve(row, col + 1)\n",
        "          # E didn't work\n",
        "          if (not found):\n",
        "            self._maze[row][col] = DEAD_END\n",
        "    # we've found part of the path\n",
        "    if (found):\n",
        "      self._maze[row][col] = EXIT\n",
        "    clear_output()\n",
        "    print(self)\n",
        "    if (USER_CONTROLS):\n",
        "      input(\"\")\n",
        "    else:\n",
        "      sleep(DELAY)\n",
        "\n",
        "    return found\n",
        "\n",
        "maze = Maze(\"maze.txt\")\n",
        "maze.solve(maze._row, maze._col)"
      ],
      "metadata": {
        "id": "ErrWMp-QL1ac",
        "cellView": "form",
        "collapsed": true,
        "colab": {
          "base_uri": "https://localhost:8080/"
        },
        "outputId": "e7fa2205-8fea-4951-d66b-72408af4716f"
      },
      "execution_count": 10,
      "outputs": [
        {
          "output_type": "stream",
          "name": "stdout",
          "text": [
            "######################\n",
            "#-..#...## ##        #\n",
            "......#...  ##########\n",
            "#-#-.. ##. #### ### ##\n",
            "#-#-..# #.## .. ###  #\n",
            "#---..   ..##..##  # #\n",
            "#####-# #-.....##  # #\n",
            "#####-###--#-#..##   #\n",
            "#----------#-# .# #  #\n",
            "#####-#--#-#-#     # #\n",
            "######################\n",
            "\n"
          ]
        },
        {
          "output_type": "execute_result",
          "data": {
            "text/plain": [
              "True"
            ]
          },
          "metadata": {},
          "execution_count": 10
        }
      ]
    },
    {
      "cell_type": "markdown",
      "source": [
        "The source code is probably a bit more complex than it should be. It's also probably best executed on a local machine instead of in this *colab*. There's a lot of extra code to help show how the recursion is working (e.g., the indicators), to enable pausing after each move and waiting for user input before continuing, clearing the screen as moves are made to animate the process, and so on. Let's try to explain a few things:\n",
        "\n",
        "* The `__getitem__()` function in the `Maze` class is used to allow indexing into a `Maze` object. For example, `maze[0]` returns the first item in (i.e., row of) the maze. Therefore, `maze[0][4]`, for example, returns the fifth column of the first row of the maze.\n",
        "* The `is_exit()` function merely determines if the position is at the edge of the maze (i.e., the top row, bottom row, left column, or right column). Exits are always at the perimeter of the maze.\n",
        "* The `solve()` function does the bulk of the work here. Other than code that animates, waits for user input, etc, here's what's going on:\n",
        "  * If the current position is an obstacle, a dead end, or has been visited already (i.e., it has a bread crumb or an indicator), then we cannot explore in this direction. We return `False`, and the recursive call ends.\n",
        "  * If the current position is an exit, then we have solved the maze! We return `True`, and the recursive call ends.\n",
        "  * Otherwise, this position has not yet been visited, so we leave a breadcrumb. We then try going N (placing an indicator pointing in that direction before going to the N position). This begins a new recursive call.\n",
        "  * If that got us nowhere (i.e., the N recursive call ended with `False` being returned), we try going S (changing the indicator to point in that direction before going to the S position). This begins a new recursive call.\n",
        "  * If that got us nowhere (i.e., the S recursive call ended with `False` being returned), we try going W (changing the indicator to point in that direction before going to the W position). This begins a new recursive call.\n",
        "  * If that got us nowhere (i.e., the W recursive call ended with `False` being returned), we try going E (changing the indicator to point in that direction before going to the E position). This begins a new recursive call.\n",
        "  * If that got us nowhere (i.e., the E recursive call ended with `False` being returned), we have tried all possible directions and place a dead end marker in the position.\n",
        "  * As the recursive calls end, each one will reach the end of the `solve()` function. If any position was successful (i.e., `True` was returned), then we place an exit marker in the position. Of course, this will occur for all positions that lead to the exit."
      ],
      "metadata": {
        "id": "dl5KOBp0WTer"
      }
    }
  ]
}